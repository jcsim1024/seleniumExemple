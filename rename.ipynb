{
 "cells": [
  {
   "cell_type": "code",
   "execution_count": 5,
   "metadata": {},
   "outputs": [
    {
     "name": "stdout",
     "output_type": "stream",
     "text": [
      "d:\\documents\\tordi\\digiposte_12-05-2019-154550\\Sopra Steria - Bulletins de paie\n",
      "d:\\documents\\tordi\\digiposte_12-05-2019-154550\\Sopra steria Salaire du 2018-09 .pdf\n",
      "d:\\documents\\tordi\\digiposte_12-05-2019-154550\\Sopra steria Salaire du 2018-10 .pdf\n",
      "d:\\documents\\tordi\\digiposte_12-05-2019-154550\\Sopra steria Salaire du 2018-11 .pdf\n",
      "d:\\documents\\tordi\\digiposte_12-05-2019-154550\\Sopra steria Salaire du 2018-12 .pdf\n"
     ]
    }
   ],
   "source": [
    "import os\n",
    "\n",
    "# Absolute path of a file\n",
    "list=[\"01\",\"02\",\"03\",\"04\",\"05\",\"06\",\"07\",\"08\",\"09\",\"10\",\"11\",\"12\",]\n",
    "\n",
    "print(os.getcwd())\n",
    "for id in list:\n",
    "    old_name = r\"d:\\documents\\tordi\\digiposte_12-05-2019-154550\\Salaire du \"+ id +\" 2018.pdf\"\n",
    "    new_name = r\"d:\\documents\\tordi\\digiposte_12-05-2019-154550\\Sopra steria Salaire du 2018-\"+ id + \" .pdf\" \n",
    "\n",
    "    # Renaming the file\n",
    "    try:\n",
    "        os.rename(old_name, new_name)\n",
    "        print(new_name)\n",
    "    except Exception:\n",
    "        pass"
   ]
  }
 ],
 "metadata": {
  "interpreter": {
   "hash": "bab933a46b4766bbb3725908acc1b53a1daacd006b4ee3078ef970ce26b8c9c1"
  },
  "kernelspec": {
   "display_name": "Python 3.10.4 64-bit",
   "language": "python",
   "name": "python3"
  },
  "language_info": {
   "codemirror_mode": {
    "name": "ipython",
    "version": 3
   },
   "file_extension": ".py",
   "mimetype": "text/x-python",
   "name": "python",
   "nbconvert_exporter": "python",
   "pygments_lexer": "ipython3",
   "version": "3.10.4"
  },
  "orig_nbformat": 4
 },
 "nbformat": 4,
 "nbformat_minor": 2
}
